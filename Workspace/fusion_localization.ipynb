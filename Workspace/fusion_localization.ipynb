{
 "cells": [
  {
   "cell_type": "code",
   "execution_count": null,
   "metadata": {},
   "outputs": [],
   "source": [
    "import numpy as np\n",
    "import matplotlib.pyplot as plt\n",
    "import beaconsHelper\n",
    "import trilateration\n",
    "import CoreLocation\n",
    "\n",
    "beacon_locations = {\n",
    "    3: (62, 0),\n",
    "    2: (173, 0),\n",
    "    4: (212, 93),\n",
    "    5: (309, 173),\n",
    "    8: (309, 303),\n",
    "    9: (165, 341),\n",
    "    6: (45, 110),\n",
    "    1: (18, 224),\n",
    "    7: (0, 307)\n",
    "}\n",
    "# beacon_locations = {1: (171, 0), 2: (0, 108), 3: (0, 216), 4: (0, 0), 5: (279, 101), 6: (108, 251), 7:(121, 144), 8: (279, 179), 9: (273, 0)}\n",
    "client_locations = {\"cattalyya\": (160, 109), \"ray\": (236, 88)}\n",
    "# ray started at 12:45 am"
   ]
  },
  {
   "cell_type": "code",
   "execution_count": null,
   "metadata": {},
   "outputs": [],
   "source": [
    "beacon_locations_3D = {}\n",
    "for minor, location in beacon_locations.items():\n",
    "    x, y = location\n",
    "    beacon_locations_3D[minor] = np.array([x, y, 0])"
   ]
  },
  {
   "cell_type": "code",
   "execution_count": null,
   "metadata": {},
   "outputs": [],
   "source": [
    "import json\n",
    "\n",
    "#ray 1525668401385.json\n",
    "data = []\n",
    "with open('/root/6S062/indoor-loc/Server/collected_data/cattalyya-13-slow-old/ibeacons/1526267744849.json', 'r') as f:\n",
    "    data += json.load(f)\n",
    "with open('/root/6S062/indoor-loc/Server/collected_data/cattalyya-13-slow-old/ibeacons/1526267804847.json', 'r') as f:\n",
    "    data += json.load(f)"
   ]
  },
  {
   "cell_type": "code",
   "execution_count": null,
   "metadata": {},
   "outputs": [],
   "source": [
    "data_by_id = {}\n",
    "rssi_data_by_timestamp = beaconsHelper.get_rssi_data_by_timestamp(data, rssi_thres=-65)\n",
    "print(len(rssi_data_by_timestamp.keys()))"
   ]
  },
  {
   "cell_type": "code",
   "execution_count": null,
   "metadata": {},
   "outputs": [],
   "source": [
    "# rssi_data_by_timestamp"
   ]
  },
  {
   "cell_type": "markdown",
   "metadata": {},
   "source": [
    "### Average prediction over 1 minute"
   ]
  },
  {
   "cell_type": "code",
   "execution_count": null,
   "metadata": {},
   "outputs": [],
   "source": [
    "for beacon_id in range(1, 10):\n",
    "    ibeacon = beaconsHelper.get_rssi_data_from_id(beacon_id, rssi_data_by_timestamp)\n",
    "#     print ibeacon\n",
    "    ibeacon = beaconsHelper.get_smooth_rssi_data(ibeacon, 5, option=\"median\")\n",
    "#     print \"\\n\\n\\n\",ibeacon\n",
    "    data_by_id[beacon_id] = ibeacon\n",
    "data_by_timestamp = beaconsHelper.convert_rssi_data_by_id_to_timestamp(data_by_id)\n",
    "data_by_timestamp = beaconsHelper.convert_to_rough_timestamp(data_by_timestamp)\n",
    "# print(list(sorted(data_by_timestamp.keys())))\n",
    "print(data_by_timestamp)"
   ]
  },
  {
   "cell_type": "code",
   "execution_count": null,
   "metadata": {
    "scrolled": true
   },
   "outputs": [],
   "source": [
    "timestamp = 1525668397.2775578 # ray\n",
    "# timestamp = 1525666731.260067 # cattalyya\n",
    "conversion = 39.97 # meters to inches\n",
    "A = -64\n",
    "n = 2\n",
    "\n",
    "subject_name = \"cattalyya\"\n",
    "predicted_locations = CoreLocation.Locations(subject=subject_name)\n",
    "xs, ys = zip(*beacon_locations.values())\n",
    "margin = 50\n",
    "axis_limits = [min(xs) - margin, max(xs) + margin, min(ys) - margin, max(ys) + margin]\n",
    "# print data_by_timestamp\n",
    "\n",
    "for timestamp in data_by_timestamp.keys():\n",
    "    rssi_values = beaconsHelper.get_rssi_values(data_by_timestamp, timestamp)\n",
    "    beacon_distances = beaconsHelper.get_beacon_distances_from_rssi(rssi_values, A, n, conversion)\n",
    "    print beacon_distances\n",
    "    predicted_loc = trilateration.trilaterate_ratios(beacon_locations, beacon_distances)\n",
    "#     predicted_loc = trilateration.trilaterate(beacon_locations, beacon_distances, L2=True)\n",
    "\n",
    "    # TODO: check why None result from trilateration\n",
    "    if predicted_loc is not None:\n",
    "        predicted_locations.add_np_point(predicted_loc, timestamp)\n",
    "    \n",
    "subject_point = CoreLocation.Point2D.numpy_to_point(client_locations[subject_name], None)\n",
    "\n",
    "fig, ax = plt.subplots(figsize=(6,8))\n",
    "ax = predicted_locations.visualize(actual_loc=subject_point, ax_limits=axis_limits, fig_ax=(fig, ax))\n",
    "ax.axis('equal')\n",
    "plt.gca().invert_yaxis()\n",
    "plt.show()\n",
    "\n",
    "fig, ax = plt.subplots(figsize=(6,8))\n",
    "ax = predicted_locations.plot(actual_loc=subject_point, ax_limits=axis_limits, fig_ax=(fig, ax))\n",
    "ax.axis('equal')\n",
    "plt.gca().invert_yaxis()\n",
    "plt.show()\n",
    "\n"
   ]
  },
  {
   "cell_type": "code",
   "execution_count": null,
   "metadata": {},
   "outputs": [],
   "source": [
    "predicted_locations.points"
   ]
  },
  {
   "cell_type": "code",
   "execution_count": null,
   "metadata": {},
   "outputs": [],
   "source": [
    "# # NO Smooth\n",
    "# data_by_timestamp = ibeaconsHelper.get_rssi_data_by_timestamp(data) # old data format use get_data_by_timestamp\n",
    "\n",
    "# timestamp = 1525668397.2775578 # ray\n",
    "# # timestamp = 1525666731.260067 # cattalyya\n",
    "# conversion = 39.97 # meters to inches\n",
    "# A = -64\n",
    "# n = 2\n",
    "\n",
    "# subject_name = \"cattalyya\"\n",
    "# predicted_locations = CoreLocation.Locations(subject=subject_name)\n",
    "# xs, ys = zip(*beacon_locations.values())\n",
    "# margin = 50\n",
    "# axis_limits = [min(xs) - margin, max(xs) + margin, min(ys) - margin, max(ys) + margin]\n",
    "# # print data_by_timestamp\n",
    "\n",
    "# for timestamp in data_by_timestamp.keys():\n",
    "#     rssi_values = ibeaconsHelper.get_rssi_values(data_by_timestamp, timestamp)\n",
    "#     beacon_distances = ibeaconsHelper.get_beacon_distances_from_rssi(rssi_values, A, n, conversion)\n",
    "#     predicted_loc = trilateration.trilaterate(beacon_locations, beacon_distances, L2=True)\n",
    "#     # TODO: check why None result from trilateration\n",
    "#     if predicted_loc is not None:\n",
    "#         predicted_locations.add_np_point(predicted_loc, timestamp)\n",
    "    \n",
    "# subject_point = CoreLocation.Point2D.numpy_to_point(client_locations[subject_name], None)\n",
    "# predicted_locations.visualize(subject_point, ax_limits=axis_limits)\n",
    "# predicted_locations.plot(subject_point, ax_limits=axis_limits)\n",
    "\n",
    "# # Hyperbolic multilateration \n"
   ]
  },
  {
   "cell_type": "markdown",
   "metadata": {},
   "source": [
    "Should we filter out data if rssi are too low? It's no longer reliable after it's below some threshold."
   ]
  },
  {
   "cell_type": "markdown",
   "metadata": {},
   "source": [
    "# Results"
   ]
  },
  {
   "cell_type": "code",
   "execution_count": null,
   "metadata": {
    "scrolled": true
   },
   "outputs": [],
   "source": [
    "def plot_prediction(beacon_locations, beacon_distances, predicted_location, client_names):\n",
    "    margin = 50\n",
    "    xs, ys = zip(*beacon_locations.values())\n",
    "    axis_limits = [min(xs) - margin, max(xs) + margin, min(ys) - margin, max(ys) + margin]\n",
    "    fig, ax = plt.subplots()\n",
    "    \n",
    "    # assume all beacons in beacon_distances are also in beacon_locations\n",
    "    for minor in beacon_distances:\n",
    "        x, y = beacon_locations[minor][:2]\n",
    "        distance = beacon_distances[minor]\n",
    "        circle = plt.Circle((x, y), distance, fill=False)\n",
    "        ax.add_artist(circle)\n",
    "        ax.plot(x, y, 'bo')\n",
    "        ax.annotate(minor, (x, y), xytext=(x + 5, y + 5))\n",
    "\n",
    "    for client_name in client_names:\n",
    "        x, y = client_locations[client_name]\n",
    "        ax.plot(x, y, 'go')\n",
    "        ax.annotate(client_name, (x, y), xytext=(x + 5, y + 5))\n",
    "\n",
    "    # prediction\n",
    "    predicted_x, predicted_y = predicted_location[:2]\n",
    "    ax.plot(predicted_x, predicted_y, 'ro')\n",
    "    ax.annotate(\"prediction\", (predicted_x, predicted_y), xytext=(predicted_x + 5, predicted_y + 5))\n",
    "    plt.axis(axis_limits)\n",
    "    ax.axis('equal')\n",
    "    plt.title(\"A: %.2f, n: %.2f\" % (A, n))\n",
    "    plt.show()"
   ]
  },
  {
   "cell_type": "code",
   "execution_count": null,
   "metadata": {},
   "outputs": [],
   "source": [
    "plot_prediction(beacon_locations, beacon_distances, predicted_locations.points[10].coord, [\"ray\"])"
   ]
  },
  {
   "cell_type": "code",
   "execution_count": null,
   "metadata": {},
   "outputs": [],
   "source": [
    "print rssi_values"
   ]
  },
  {
   "cell_type": "code",
   "execution_count": 3,
   "metadata": {},
   "outputs": [
    {
     "name": "stdout",
     "output_type": "stream",
     "text": [
      "[1.00000011e+00 8.08083615e-07]\n"
     ]
    },
    {
     "data": {
      "image/png": "[encoded data removed]",
      "text/plain": [
       "<Figure size 432x576 with 1 Axes>"
      ]
     },
     "metadata": {},
     "output_type": "display_data"
    }
   ],
   "source": [
    "import CoreLocation\n",
    "import trilateration\n",
    "import numpy as np\n",
    "import matplotlib.pyplot as plt\n",
    "\n",
    "beacon_locations_dict = {1: (2, 0), 2: (0,0), 3:(1, 1)}\n",
    "beacon_location = CoreLocation.Locations(subject=\"testing\")\n",
    "for i in beacon_locations_dict.values():\n",
    "    beacon_location.add_np_point(i)\n",
    "xs, ys = zip(*beacon_locations_dict.values())\n",
    "margin=0\n",
    "axis_limits = [min(xs) - margin, max(xs) + margin, min(ys) - margin, max(ys) + margin]\n",
    "\n",
    "beacon_distances = {1: 1, 2: 1, 3: 1}\n",
    "res = trilateration.trilaterate(beacon_locations_dict, beacon_distances)\n",
    "print res\n",
    "\n",
    "fig, ax = plt.subplots(figsize=(6,8))\n",
    "ax = beacon_location.plot(actual_loc=CoreLocation.Point2D(res[0], res[1]), ax_limits=axis_limits, fig_ax=(fig, ax))\n",
    "ax.axis('equal')\n",
    "plt.show()"
   ]
  },
  {
   "cell_type": "code",
   "execution_count": null,
   "metadata": {},
   "outputs": [],
   "source": []
  },
  {
   "cell_type": "code",
   "execution_count": null,
   "metadata": {},
   "outputs": [],
   "source": []
  }
 ],
 "metadata": {
  "kernelspec": {
   "display_name": "Python 2",
   "language": "python",
   "name": "python2"
  },
  "language_info": {
   "codemirror_mode": {
    "name": "ipython",
    "version": 2
   },
   "file_extension": ".py",
   "mimetype": "text/x-python",
   "name": "python",
   "nbconvert_exporter": "python",
   "pygments_lexer": "ipython2",
   "version": "2.7.12"
  }
 },
 "nbformat": 4,
 "nbformat_minor": 2
}
