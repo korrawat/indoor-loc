{
 "cells": [
  {
   "cell_type": "code",
   "execution_count": 13,
   "metadata": {},
   "outputs": [],
   "source": [
    "import numpy as np\n",
    "import matplotlib.pyplot as plt\n",
    "import ibeaconsHelper\n",
    "import trilateration\n",
    "import CoreLocation\n",
    "\n",
    "\n",
    "beacon_locations = {1: (171, 0), 2: (0, 108), 3: (0, 216), 4: (0, 0), 5: (279, 101), 6: (108, 251), 7:(121, 144), 8: (279, 179), 9: (273, 0)}\n",
    "client_locations = {\"cattalyya\": (160, 109), \"ray\": (236, 88)}\n",
    "# ray started at 12:45 am"
   ]
  },
  {
   "cell_type": "code",
   "execution_count": 14,
   "metadata": {},
   "outputs": [],
   "source": [
    "beacon_locations_3D = {}\n",
    "for minor, location in beacon_locations.items():\n",
    "    x, y = location\n",
    "    beacon_locations_3D[minor] = np.array([x, y, 0])"
   ]
  },
  {
   "cell_type": "code",
   "execution_count": 15,
   "metadata": {},
   "outputs": [],
   "source": [
    "def rssi_to_distance(rssi, A, n, conversion):\n",
    "    \"\"\" need to find the params A, n that actually match our beacons \"\"\"\n",
    "    exponent = 1. * (A - rssi) / (10 * n)\n",
    "    distance_m = pow(10, exponent)\n",
    "    return distance_m * conversion"
   ]
  },
  {
   "cell_type": "code",
   "execution_count": 16,
   "metadata": {},
   "outputs": [],
   "source": [
    "import json\n",
    "\n",
    "#ray 1525668401385.json\n",
    "with open('indoor-loc/Server/collected_data/ibeacons/05_06_2018/1525666779192.json', 'r') as f:\n",
    "    data = json.load(f)"
   ]
  },
  {
   "cell_type": "code",
   "execution_count": 17,
   "metadata": {},
   "outputs": [],
   "source": [
    "data_by_timestamp = ibeaconsHelper.get_data_by_timestamp(data)"
   ]
  },
  {
   "cell_type": "code",
   "execution_count": 18,
   "metadata": {},
   "outputs": [
    {
     "data": {
      "text/plain": [
       "{1525666730.262392: [iBeacon(1)@1525666730.26: rssi=-86, prox=3, accu=16.681005372,\n",
       "  iBeacon(5)@1525666730.26: rssi=-90, prox=3, accu=27.8255940221,\n",
       "  iBeacon(6)@1525666730.26: rssi=-92, prox=3, accu=35.938136638,\n",
       "  iBeacon(2)@1525666730.26: rssi=-92, prox=3, accu=35.938136638,\n",
       "  iBeacon(8)@1525666730.26: rssi=-93, prox=3, accu=40.8423865267],\n",
       " 1525666731.260067: [iBeacon(1)@1525666731.26: rssi=-86, prox=3, accu=16.6810054382,\n",
       "  iBeacon(5)@1525666731.26: rssi=-86, prox=3, accu=23.6486191265,\n",
       "  iBeacon(2)@1525666731.26: rssi=-90, prox=3, accu=33.7934137022,\n",
       "  iBeacon(6)@1525666731.26: rssi=-92, prox=3, accu=35.9381369638,\n",
       "  iBeacon(8)@1525666731.26: rssi=-94, prox=3, accu=41.830319037,\n",
       "  iBeacon(3)@1525666731.26: rssi=-94, prox=3, accu=46.4158883361],\n",
       " 1525666732.260857: [iBeacon(1)@1525666732.26: rssi=-85, prox=3, accu=16.0709421594,\n",
       "  iBeacon(5)@1525666732.26: rssi=-86, prox=3, accu=21.7104099465,\n",
       "  iBeacon(8)@1525666732.26: rssi=-91, prox=3, accu=39.6871720292,\n",
       "  iBeacon(9)@1525666732.26: rssi=-93, prox=3, accu=40.8423865267],\n",
       " 1525666733.25141: [iBeacon(1)@1525666733.25: rssi=-85, prox=3, accu=15.7360630168,\n",
       "  iBeacon(5)@1525666733.25: rssi=-87, prox=3, accu=21.1527626566,\n",
       "  iBeacon(2)@1525666733.25: rssi=-90, prox=3, accu=32.5220328201,\n",
       "  iBeacon(6)@1525666733.25: rssi=-92, prox=3, accu=35.9381369786,\n",
       "  iBeacon(9)@1525666733.25: rssi=-93, prox=3, accu=40.8423878332,\n",
       "  iBeacon(3)@1525666733.25: rssi=-93, prox=3, accu=45.3196581111],\n",
       " 1525666734.254333: [iBeacon(1)@1525666734.25: rssi=-85, prox=3, accu=15.5228963784,\n",
       "  iBeacon(5)@1525666734.25: rssi=-88, prox=3, accu=21.2142676344,\n",
       "  iBeacon(2)@1525666734.25: rssi=-90, prox=3, accu=31.6187353848,\n",
       "  iBeacon(6)@1525666734.25: rssi=-89, prox=3, accu=33.3237703186,\n",
       "  iBeacon(8)@1525666734.25: rssi=-90, prox=3, accu=37.3537302884,\n",
       "  iBeacon(9)@1525666734.25: rssi=-92, prox=3, accu=39.9305566793],\n",
       " 1525666735.262032: [iBeacon(1)@1525666735.26: rssi=-85, prox=3, accu=15.3770183516,\n",
       "  iBeacon(5)@1525666735.26: rssi=-88, prox=3, accu=21.2602819885,\n",
       "  iBeacon(2)@1525666735.26: rssi=-91, prox=3, accu=31.6193309611,\n",
       "  iBeacon(6)@1525666735.26: rssi=-89, prox=3, accu=31.6558146672,\n",
       "  iBeacon(9)@1525666735.26: rssi=-92, prox=3, accu=39.2908616479],\n",
       " 1525666736.258045: [iBeacon(5)@1525666736.26: rssi=-87, prox=3, accu=20.9395294255,\n",
       "  iBeacon(6)@1525666736.26: rssi=-89, prox=3, accu=30.5041095436,\n",
       "  iBeacon(2)@1525666736.26: rssi=-91, prox=3, accu=31.6197787126,\n",
       "  iBeacon(9)@1525666736.26: rssi=-93, prox=3, accu=39.4876710545],\n",
       " 1525666737.264822: [iBeacon(5)@1525666737.26: rssi=-87, prox=3, accu=20.6940728771,\n",
       "  iBeacon(6)@1525666737.26: rssi=-89, prox=3, accu=29.6640420304,\n",
       "  iBeacon(8)@1525666737.26: rssi=-91, prox=3, accu=36.4529254076,\n",
       "  iBeacon(9)@1525666737.26: rssi=-93, prox=3, accu=39.6429330518,\n",
       "  iBeacon(3)@1525666737.26: rssi=-93, prox=3, accu=46.1365814992],\n",
       " 1525666738.253567: [iBeacon(5)@1525666738.25: rssi=-89, prox=3, accu=21.0287500623,\n",
       "  iBeacon(6)@1525666738.25: rssi=-89, prox=3, accu=29.0258547001,\n",
       "  iBeacon(8)@1525666738.25: rssi=-90, prox=3, accu=35.0981749131,\n",
       "  iBeacon(3)@1525666738.25: rssi=-93, prox=3, accu=45.3734153179],\n",
       " 1525666739.268649: [iBeacon(5)@1525666739.27: rssi=-88, prox=3, accu=21.0761114108,\n",
       "  iBeacon(6)@1525666739.27: rssi=-89, prox=3, accu=28.525140236,\n",
       "  iBeacon(2)@1525666739.27: rssi=-91, prox=3, accu=31.6201269022,\n",
       "  iBeacon(8)@1525666739.27: rssi=-90, prox=3, accu=34.1077818626,\n",
       "  iBeacon(9)@1525666739.27: rssi=-92, prox=3, accu=39.2107753916],\n",
       " 1525666740.2590442: [iBeacon(5)@1525666740.26: rssi=-90, prox=3, accu=21.5280949518,\n",
       "  iBeacon(6)@1525666740.26: rssi=-90, prox=3, accu=28.4628991558,\n",
       "  iBeacon(2)@1525666740.26: rssi=-91, prox=3, accu=31.6204125685,\n",
       "  iBeacon(8)@1525666740.26: rssi=-91, prox=3, accu=33.8407362222,\n",
       "  iBeacon(9)@1525666740.26: rssi=-93, prox=3, accu=39.3657740807],\n",
       " 1525666741.25859: [iBeacon(5)@1525666741.26: rssi=-89, prox=3, accu=21.7389386648,\n",
       "  iBeacon(6)@1525666741.26: rssi=-90, prox=3, accu=28.4104996398,\n",
       "  iBeacon(2)@1525666741.26: rssi=-90, prox=3, accu=31.2041668588,\n",
       "  iBeacon(8)@1525666741.26: rssi=-90, prox=3, accu=33.183161699],\n",
       " 1525666742.2625499: [iBeacon(5)@1525666742.26: rssi=-89, prox=3, accu=21.9234146249,\n",
       "  iBeacon(6)@1525666742.26: rssi=-90, prox=3, accu=28.3657494835,\n",
       "  iBeacon(2)@1525666742.26: rssi=-90, prox=3, accu=30.8684880093,\n",
       "  iBeacon(8)@1525666742.26: rssi=-92, prox=3, accu=33.3992903388,\n",
       "  iBeacon(3)@1525666742.26: rssi=-94, prox=3, accu=46.1482622513],\n",
       " 1525666743.256819: [iBeacon(5)@1525666743.26: rssi=-87, prox=3, accu=21.6842310184,\n",
       "  iBeacon(6)@1525666743.26: rssi=-90, prox=3, accu=28.3270651671,\n",
       "  iBeacon(2)@1525666743.26: rssi=-90, prox=3, accu=30.5918910226,\n",
       "  iBeacon(3)@1525666743.26: rssi=-93, prox=3, accu=45.5785195495],\n",
       " 1525666744.261852: [iBeacon(5)@1525666744.26: rssi=-87, prox=3, accu=21.4785999347,\n",
       "  iBeacon(6)@1525666744.26: rssi=-89, prox=3, accu=28.0355100714,\n",
       "  iBeacon(2)@1525666744.26: rssi=-89, prox=3, accu=30.0164659383,\n",
       "  iBeacon(9)@1525666744.26: rssi=-94, prox=3, accu=39.911823487,\n",
       "  iBeacon(3)@1525666744.26: rssi=-93, prox=3, accu=45.1176211185],\n",
       " 1525666745.254696: [iBeacon(5)@1525666745.25: rssi=-90, prox=3, accu=21.7923520182,\n",
       "  iBeacon(6)@1525666745.25: rssi=-89, prox=3, accu=27.7828888076,\n",
       "  iBeacon(2)@1525666745.25: rssi=-88, prox=3, accu=29.1914624271,\n",
       "  iBeacon(8)@1525666745.25: rssi=-90, prox=3, accu=33.8046537272],\n",
       " 1525666746.259615: [iBeacon(6)@1525666746.26: rssi=-89, prox=3, accu=27.561760176,\n",
       "  iBeacon(2)@1525666746.26: rssi=-88, prox=3, accu=28.507701822,\n",
       "  iBeacon(8)@1525666746.26: rssi=-90, prox=3, accu=33.3046539236],\n",
       " 1525666747.2619848: [iBeacon(7)@1525666747.26: rssi=-85, prox=3, accu=14.6779926762,\n",
       "  iBeacon(1)@1525666747.26: rssi=-85, prox=3, accu=16.8750314864,\n",
       "  iBeacon(6)@1525666747.26: rssi=-89, prox=3, accu=27.366505537,\n",
       "  iBeacon(2)@1525666747.26: rssi=-90, prox=3, accu=28.463165662,\n",
       "  iBeacon(8)@1525666747.26: rssi=-90, prox=3, accu=32.8789211878,\n",
       "  iBeacon(9)@1525666747.26: rssi=-91, prox=3, accu=39.0069752014],\n",
       " 1525666748.26082: [iBeacon(7)@1525666748.26: rssi=-85, prox=3, accu=14.6779926762,\n",
       "  iBeacon(1)@1525666748.26: rssi=-85, prox=3, accu=16.4710190147,\n",
       "  iBeacon(6)@1525666748.26: rssi=-89, prox=3, accu=27.1927136641,\n",
       "  iBeacon(9)@1525666748.26: rssi=-91, prox=3, accu=38.2504526061],\n",
       " 1525666749.250526: [iBeacon(5)@1525666749.25: rssi=-88, prox=3, accu=21.7772903629,\n",
       "  iBeacon(6)@1525666749.25: rssi=-94, prox=3, accu=27.7921304605,\n",
       "  iBeacon(2)@1525666749.25: rssi=-91, prox=3, accu=28.6364045112,\n",
       "  iBeacon(8)@1525666749.25: rssi=-91, prox=3, accu=32.7979195771,\n",
       "  iBeacon(7)@1525666749.25: rssi=-85, prox=3, accu=35.1544711567,\n",
       "  iBeacon(9)@1525666749.25: rssi=-93, prox=3, accu=38.4419021731],\n",
       " 1525666750.257362: [iBeacon(1)@1525666750.26: rssi=-94, prox=3, accu=18.1267504686,\n",
       "  iBeacon(5)@1525666750.26: rssi=-87, prox=3, accu=21.5593486097,\n",
       "  iBeacon(6)@1525666750.26: rssi=-89, prox=3, accu=27.6054244073,\n",
       "  iBeacon(7)@1525666750.26: rssi=-85, prox=3, accu=31.2149112998,\n",
       "  iBeacon(8)@1525666750.26: rssi=-91, prox=3, accu=32.7244494715,\n",
       "  iBeacon(9)@1525666750.26: rssi=-93, prox=3, accu=38.6078971946],\n",
       " 1525666751.250883: [iBeacon(1)@1525666751.25: rssi=-94, prox=3, accu=19.6470472961,\n",
       "  iBeacon(5)@1525666751.25: rssi=-89, prox=3, accu=21.7263582452,\n",
       "  iBeacon(7)@1525666751.25: rssi=-86, prox=3, accu=29.0995288028,\n",
       "  iBeacon(2)@1525666751.25: rssi=-93, prox=3, accu=29.1526245732,\n",
       "  iBeacon(9)@1525666751.25: rssi=-92, prox=3, accu=38.4122600811,\n",
       "  iBeacon(3)@1525666751.25: rssi=-94, prox=3, accu=48.5577323441],\n",
       " 1525666752.261351: [iBeacon(6)@1525666752.26: rssi=-90, prox=3, accu=27.6159681102,\n",
       "  iBeacon(7)@1525666752.26: rssi=-89, prox=3, accu=28.6804455034,\n",
       "  iBeacon(8)@1525666752.26: rssi=-92, prox=3, accu=32.8934305408,\n",
       "  iBeacon(9)@1525666752.26: rssi=-92, prox=3, accu=38.2422932382],\n",
       " 1525666753.261678: [iBeacon(5)@1525666753.26: rssi=-90, prox=3, accu=22.0216036774,\n",
       "  iBeacon(2)@1525666753.26: rssi=-93, prox=3, accu=29.645355085,\n",
       "  iBeacon(3)@1525666753.26: rssi=-92, prox=3, accu=47.5437717528],\n",
       " 1525666754.2582412: [iBeacon(5)@1525666754.26: rssi=-87, prox=3, accu=21.8084837367,\n",
       "  iBeacon(6)@1525666754.26: rssi=-90, prox=3, accu=27.6260314107,\n",
       "  iBeacon(7)@1525666754.26: rssi=-85, prox=3, accu=27.7338325929,\n",
       "  iBeacon(8)@1525666754.26: rssi=-91, prox=3, accu=33.8567881659],\n",
       " 1525666755.262292: [iBeacon(5)@1525666755.26: rssi=-89, prox=3, accu=21.9469468223,\n",
       "  iBeacon(2)@1525666755.26: rssi=-91, prox=3, accu=29.7513819942],\n",
       " 1525666756.2616649: [iBeacon(5)@1525666756.26: rssi=-88, prox=3, accu=21.9242944511,\n",
       "  iBeacon(7)@1525666756.26: rssi=-85, prox=3, accu=26.2334337634,\n",
       "  iBeacon(1)@1525666756.26: rssi=-94, prox=3, accu=26.4406690688,\n",
       "  iBeacon(6)@1525666756.26: rssi=-89, prox=3, accu=27.455491992,\n",
       "  iBeacon(8)@1525666756.26: rssi=-91, prox=3, accu=33.7342139665],\n",
       " 1525666757.261205: [iBeacon(5)@1525666757.26: rssi=-88, prox=3, accu=21.9037780421,\n",
       "  iBeacon(1)@1525666757.26: rssi=-94, prox=3, accu=27.3174557795,\n",
       "  iBeacon(9)@1525666757.26: rssi=-91, prox=3, accu=37.7597082101],\n",
       " 1525666758.2617059: [iBeacon(5)@1525666758.26: rssi=-88, prox=3, accu=21.8851023031,\n",
       "  iBeacon(7)@1525666758.26: rssi=-85, prox=3, accu=24.9981652559,\n",
       "  iBeacon(6)@1525666758.26: rssi=-91, prox=3, accu=28.3402915763,\n",
       "  iBeacon(2)@1525666758.26: rssi=-91, prox=3, accu=29.8503547077,\n",
       "  iBeacon(9)@1525666758.26: rssi=-91, prox=3, accu=37.270020235],\n",
       " 1525666759.260857: [iBeacon(5)@1525666759.26: rssi=-89, prox=3, accu=22.0004440043,\n",
       "  iBeacon(1)@1525666759.26: rssi=-94, prox=3, accu=28.1271042503,\n",
       "  iBeacon(6)@1525666759.26: rssi=-91, prox=3, accu=28.4741255817,\n",
       "  iBeacon(2)@1525666759.26: rssi=-91, prox=3, accu=29.9473052849,\n",
       "  iBeacon(9)@1525666759.26: rssi=-92, prox=3, accu=37.1820741188,\n",
       "  iBeacon(3)@1525666759.26: rssi=-91, prox=3, accu=46.3821837023],\n",
       " 1525666760.266309: [iBeacon(5)@1525666760.27: rssi=-88, prox=3, accu=21.9782121179,\n",
       "  iBeacon(6)@1525666760.27: rssi=-90, prox=3, accu=28.4450329328,\n",
       "  iBeacon(2)@1525666760.27: rssi=-90, prox=3, accu=29.8219489297,\n",
       "  iBeacon(8)@1525666760.27: rssi=-92, prox=3, accu=33.839620197,\n",
       "  iBeacon(9)@1525666760.27: rssi=-92, prox=3, accu=37.1044919066,\n",
       "  iBeacon(3)@1525666760.27: rssi=-91, prox=3, accu=45.1511846314],\n",
       " 1525666761.26411: [iBeacon(5)@1525666761.26: rssi=-87, prox=3, accu=21.8171571422,\n",
       "  iBeacon(6)@1525666761.26: rssi=-90, prox=3, accu=28.4180825573,\n",
       "  iBeacon(2)@1525666761.26: rssi=-92, prox=3, accu=30.0922132932,\n",
       "  iBeacon(9)@1525666761.26: rssi=-94, prox=3, accu=37.5366130096,\n",
       "  iBeacon(3)@1525666761.26: rssi=-93, prox=3, accu=44.8881899146],\n",
       " 1525666762.2628632: [iBeacon(5)@1525666762.26: rssi=-86, prox=3, accu=21.5189559832,\n",
       "  iBeacon(7)@1525666762.26: rssi=-85, prox=3, accu=23.9615139401,\n",
       "  iBeacon(2)@1525666762.26: rssi=-91, prox=3, accu=30.1661667192,\n",
       "  iBeacon(3)@1525666762.26: rssi=-93, prox=3, accu=44.6539168989],\n",
       " 1525666763.254509: [iBeacon(5)@1525666763.25: rssi=-87, prox=3, accu=21.3922859525,\n",
       "  iBeacon(7)@1525666763.25: rssi=-85, prox=3, accu=22.9700759172,\n",
       "  iBeacon(6)@1525666763.25: rssi=-89, prox=3, accu=28.2302012108,\n",
       "  iBeacon(2)@1525666763.25: rssi=-90, prox=3, accu=30.0429938188,\n",
       "  iBeacon(8)@1525666763.25: rssi=-93, prox=3, accu=34.1662976196,\n",
       "  iBeacon(9)@1525666763.25: rssi=-93, prox=3, accu=37.7035040136],\n",
       " 1525666764.258349: [iBeacon(5)@1525666764.26: rssi=-88, prox=3, accu=21.3987390151,\n",
       "  iBeacon(7)@1525666764.26: rssi=-93, prox=3, accu=23.6376944861,\n",
       "  iBeacon(6)@1525666764.26: rssi=-89, prox=3, accu=28.049712039,\n",
       "  iBeacon(2)@1525666764.26: rssi=-89, prox=3, accu=29.7258131672,\n",
       "  iBeacon(8)@1525666764.26: rssi=-93, prox=3, accu=34.4872768735,\n",
       "  iBeacon(9)@1525666764.26: rssi=-92, prox=3, accu=37.6046401295,\n",
       "  iBeacon(3)@1525666764.26: rssi=-92, prox=3, accu=44.1119876866],\n",
       " 1525666765.261191: [iBeacon(5)@1525666765.26: rssi=-88, prox=3, accu=21.4047751092,\n",
       "  iBeacon(7)@1525666765.26: rssi=-87, prox=3, accu=23.2853815365,\n",
       "  iBeacon(6)@1525666765.26: rssi=-90, prox=3, accu=28.040465747,\n",
       "  iBeacon(2)@1525666765.26: rssi=-92, prox=3, accu=29.9610855134,\n",
       "  iBeacon(8)@1525666765.26: rssi=-92, prox=3, accu=34.563081233,\n",
       "  iBeacon(3)@1525666765.26: rssi=-93, prox=3, accu=43.9373753448],\n",
       " 1525666766.259407: [iBeacon(5)@1525666766.26: rssi=-88, prox=3, accu=21.4104354046,\n",
       "  iBeacon(7)@1525666766.26: rssi=-86, prox=3, accu=22.7590621013,\n",
       "  iBeacon(1)@1525666766.26: rssi=-86, prox=3, accu=27.9099081462,\n",
       "  iBeacon(6)@1525666766.26: rssi=-93, prox=3, accu=28.3956023989,\n",
       "  iBeacon(2)@1525666766.26: rssi=-92, prox=3, accu=30.1818806569,\n",
       "  iBeacon(8)@1525666766.26: rssi=-92, prox=3, accu=34.6319579558,\n",
       "  iBeacon(9)@1525666766.26: rssi=-91, prox=3, accu=37.2437873305,\n",
       "  iBeacon(3)@1525666766.26: rssi=-93, prox=3, accu=43.7792755435],\n",
       " 1525666767.25824: [iBeacon(5)@1525666767.26: rssi=-89, prox=3, accu=21.5183930707,\n",
       "  iBeacon(7)@1525666767.26: rssi=-85, prox=3, accu=22.0798409705,\n",
       "  iBeacon(6)@1525666767.26: rssi=-91, prox=3, accu=28.5088980478,\n",
       "  iBeacon(2)@1525666767.26: rssi=-90, prox=3, accu=30.0732275825,\n",
       "  iBeacon(9)@1525666767.26: rssi=-93, prox=3, accu=37.4099861906,\n",
       "  iBeacon(3)@1525666767.26: rssi=-93, prox=3, accu=43.6354003229],\n",
       " 1525666768.2566462: [iBeacon(7)@1525666768.26: rssi=-85, prox=3, accu=21.4983871438,\n",
       "  iBeacon(5)@1525666768.26: rssi=-88, prox=3, accu=21.5194083551,\n",
       "  iBeacon(6)@1525666768.26: rssi=-89, prox=3, accu=28.3316824362,\n",
       "  iBeacon(2)@1525666768.26: rssi=-90, prox=3, accu=29.9728514986],\n",
       " 1525666769.251713: [iBeacon(8)@1525666769.25: rssi=-94, prox=3, accu=35.0760482336],\n",
       " 1525666770.260909: [iBeacon(1)@1525666770.26: rssi=-86, prox=3, accu=26.56898392,\n",
       "  iBeacon(2)@1525666770.26: rssi=-91, prox=3, accu=30.0360727068,\n",
       "  iBeacon(8)@1525666770.26: rssi=-94, prox=3, accu=35.5234344537,\n",
       "  iBeacon(9)@1525666770.26: rssi=-93, prox=3, accu=38.0702730165,\n",
       "  iBeacon(3)@1525666770.26: rssi=-94, prox=3, accu=44.0729496219],\n",
       " 1525666771.254016: [iBeacon(7)@1525666771.25: rssi=-86, prox=3, accu=21.1825436745,\n",
       "  iBeacon(5)@1525666771.25: rssi=-91, prox=3, accu=21.7870698063,\n",
       "  iBeacon(1)@1525666771.25: rssi=-86, prox=3, accu=25.3836218313,\n",
       "  iBeacon(2)@1525666771.25: rssi=-92, prox=3, accu=30.2393260705,\n",
       "  iBeacon(9)@1525666771.25: rssi=-93, prox=3, accu=38.190052693,\n",
       "  iBeacon(3)@1525666771.25: rssi=-93, prox=3, accu=43.9259166839],\n",
       " 1525666772.275898: [iBeacon(7)@1525666772.28: rssi=-86, prox=3, accu=20.8685196988,\n",
       "  iBeacon(5)@1525666772.28: rssi=-87, prox=3, accu=21.6459533376,\n",
       "  iBeacon(1)@1525666772.28: rssi=-86, prox=3, accu=24.4448086624,\n",
       "  iBeacon(6)@1525666772.28: rssi=-90, prox=3, accu=28.7860077411,\n",
       "  iBeacon(2)@1525666772.28: rssi=-93, prox=3, accu=30.555429058],\n",
       " 1525666773.2630901: [iBeacon(1)@1525666773.26: rssi=-86, prox=3, accu=23.6818539731,\n",
       "  iBeacon(6)@1525666773.26: rssi=-88, prox=3, accu=28.4049109771,\n",
       "  iBeacon(2)@1525666773.26: rssi=-93, prox=3, accu=30.8575991454,\n",
       "  iBeacon(3)@1525666773.26: rssi=-94, prox=3, accu=44.0226587233],\n",
       " 1525666774.2613878: [iBeacon(5)@1525666774.26: rssi=-88, prox=3, accu=21.6416033245,\n",
       "  iBeacon(1)@1525666774.26: rssi=-86, prox=3, accu=23.0495712311,\n",
       "  iBeacon(2)@1525666774.26: rssi=-91, prox=3, accu=30.8859461554,\n",
       "  iBeacon(8)@1525666774.26: rssi=-92, prox=3, accu=35.5437242652,\n",
       "  iBeacon(9)@1525666774.26: rssi=-93, prox=3, accu=39.1853014824],\n",
       " 1525666775.255608: [iBeacon(5)@1525666775.26: rssi=-88, prox=3, accu=21.6373268688,\n",
       "  iBeacon(1)@1525666775.26: rssi=-86, prox=3, accu=22.5164752703,\n",
       "  iBeacon(6)@1525666775.26: rssi=-94, prox=3, accu=28.8406016021,\n",
       "  iBeacon(9)@1525666775.26: rssi=-93, prox=3, accu=39.2497449027,\n",
       "  iBeacon(3)@1525666775.26: rssi=-92, prox=3, accu=43.622013615],\n",
       " 1525666776.259243: [iBeacon(5)@1525666776.26: rssi=-87, prox=3, accu=21.5075311742,\n",
       "  iBeacon(1)@1525666776.26: rssi=-86, prox=3, accu=22.0605213433,\n",
       "  iBeacon(6)@1525666776.26: rssi=-89, prox=3, accu=28.6382832934,\n",
       "  iBeacon(2)@1525666776.26: rssi=-91, prox=3, accu=30.9126433396,\n",
       "  iBeacon(8)@1525666776.26: rssi=-91, prox=3, accu=36.3204075312,\n",
       "  iBeacon(3)@1525666776.26: rssi=-94, prox=3, accu=43.7291392158],\n",
       " 1525666777.253203: [iBeacon(1)@1525666777.25: rssi=-86, prox=3, accu=21.6658114156,\n",
       "  iBeacon(8)@1525666777.25: rssi=-92, prox=3, accu=36.3011967568,\n",
       "  iBeacon(3)@1525666777.25: rssi=-94, prox=3, accu=43.8292898882],\n",
       " 1525666778.258189: [iBeacon(1)@1525666778.26: rssi=-86, prox=3, accu=21.3205147219,\n",
       "  iBeacon(5)@1525666778.26: rssi=-87, prox=3, accu=21.3875907066,\n",
       "  iBeacon(2)@1525666778.26: rssi=-91, prox=3, accu=30.9389340848,\n",
       "  iBeacon(8)@1525666778.26: rssi=-92, prox=3, accu=36.2836637396,\n",
       "  iBeacon(9)@1525666778.26: rssi=-92, prox=3, accu=39.1081003068]}"
      ]
     },
     "execution_count": 18,
     "metadata": {},
     "output_type": "execute_result"
    }
   ],
   "source": [
    "data_by_timestamp"
   ]
  },
  {
   "cell_type": "code",
   "execution_count": 19,
   "metadata": {},
   "outputs": [],
   "source": [
    "def get_rssi_values(data_by_timestamp, timestamp):\n",
    "    rssi_values = {}\n",
    "    for ibeacon_data in data_by_timestamp[timestamp]:\n",
    "        minor = ibeacon_data.minor\n",
    "        rssi = ibeacon_data.rssi\n",
    "        rssi_values[minor] = rssi\n",
    "    return rssi_values"
   ]
  },
  {
   "cell_type": "code",
   "execution_count": 20,
   "metadata": {},
   "outputs": [],
   "source": [
    "def get_beacon_distances_from_rssi(rssi_values, A, n, conversion):\n",
    "    beacon_distances = {}\n",
    "    for minor, rssi in rssi_values.items():\n",
    "        beacon_distances[minor] = rssi_to_distance(rssi, A, n, conversion)\n",
    "    return beacon_distances"
   ]
  },
  {
   "cell_type": "markdown",
   "metadata": {},
   "source": [
    "### Average prediction over 1 minute"
   ]
  },
  {
   "cell_type": "code",
   "execution_count": 21,
   "metadata": {
    "scrolled": true
   },
   "outputs": [
    {
     "name": "stdout",
     "output_type": "stream",
     "text": [
      "('Time Length: ', 49.0)\n"
     ]
    },
    {
     "ename": "NameError",
     "evalue": "name 'predict_at_timestamp' is not defined",
     "output_type": "error",
     "traceback": [
      "\u001b[0;31m---------------------------------------------------------------------------\u001b[0m",
      "\u001b[0;31mNameError\u001b[0m                                 Traceback (most recent call last)",
      "\u001b[0;32m<ipython-input-21-bbea68ce8dba>\u001b[0m in \u001b[0;36m<module>\u001b[0;34m()\u001b[0m\n\u001b[1;32m      4\u001b[0m \u001b[0;32mprint\u001b[0m\u001b[0;34m(\u001b[0m\u001b[0;34m\"Time Length: \"\u001b[0m\u001b[0;34m,\u001b[0m \u001b[0mtimestamp_len\u001b[0m\u001b[0;34m)\u001b[0m\u001b[0;34m\u001b[0m\u001b[0m\n\u001b[1;32m      5\u001b[0m \u001b[0;32mfor\u001b[0m \u001b[0mt\u001b[0m \u001b[0;32min\u001b[0m \u001b[0mdata_by_timestamp\u001b[0m\u001b[0;34m.\u001b[0m\u001b[0mkeys\u001b[0m\u001b[0;34m(\u001b[0m\u001b[0;34m)\u001b[0m\u001b[0;34m:\u001b[0m\u001b[0;34m\u001b[0m\u001b[0m\n\u001b[0;32m----> 6\u001b[0;31m     \u001b[0mcurrPredPos\u001b[0m\u001b[0;34m,\u001b[0m \u001b[0mbeacon_points\u001b[0m \u001b[0;34m=\u001b[0m \u001b[0mpredict_at_timestamp\u001b[0m\u001b[0;34m(\u001b[0m\u001b[0mdata_by_timestamp\u001b[0m\u001b[0;34m,\u001b[0m \u001b[0mbeacon_locations\u001b[0m\u001b[0;34m,\u001b[0m \u001b[0mt\u001b[0m\u001b[0;34m)\u001b[0m\u001b[0;34m\u001b[0m\u001b[0m\n\u001b[0m\u001b[1;32m      7\u001b[0m     \u001b[0msumX\u001b[0m \u001b[0;34m+=\u001b[0m \u001b[0mcurrPredPos\u001b[0m\u001b[0;34m[\u001b[0m\u001b[0;34m'x'\u001b[0m\u001b[0;34m]\u001b[0m\u001b[0;34m\u001b[0m\u001b[0m\n\u001b[1;32m      8\u001b[0m     \u001b[0msumY\u001b[0m \u001b[0;34m+=\u001b[0m \u001b[0mcurrPredPos\u001b[0m\u001b[0;34m[\u001b[0m\u001b[0;34m'y'\u001b[0m\u001b[0;34m]\u001b[0m\u001b[0;34m\u001b[0m\u001b[0m\n",
      "\u001b[0;31mNameError\u001b[0m: name 'predict_at_timestamp' is not defined"
     ]
    }
   ],
   "source": [
    "sumX = 0\n",
    "sumY = 0\n",
    "timestamp_len = float(len(data_by_timestamp.keys()))\n",
    "print(\"Time Length: \", timestamp_len)\n",
    "for t in data_by_timestamp.keys():\n",
    "    currPredPos, beacon_points = predict_at_timestamp(data_by_timestamp, beacon_locations, t)\n",
    "    sumX += currPredPos['x']\n",
    "    sumY += currPredPos['y']\n",
    "\n",
    "predictedPos = {'x': sumX/timestamp_len, 'y': sumY/timestamp_len, 'z': 0.0, 'sigPower': None}"
   ]
  },
  {
   "cell_type": "code",
   "execution_count": 35,
   "metadata": {},
   "outputs": [
    {
     "data": {
      "text/plain": [
       "<matplotlib.axes._subplots.AxesSubplot at 0x7f9251afd9d0>"
      ]
     },
     "execution_count": 35,
     "metadata": {},
     "output_type": "execute_result"
    },
    {
     "data": {
      "image/png": "[encoded data removed]",
      "text/plain": [
       "<Figure size 432x288 with 1 Axes>"
      ]
     },
     "metadata": {},
     "output_type": "display_data"
    },
    {
     "data": {
      "image/png": "[encoded data removed]",
      "text/plain": [
       "<Figure size 432x288 with 1 Axes>"
      ]
     },
     "metadata": {},
     "output_type": "display_data"
    }
   ],
   "source": [
    "timestamp = 1525668397.2775578 # ray\n",
    "# timestamp = 1525666731.260067 # cattalyya\n",
    "conversion = 39.97 # meters to inches\n",
    "A = -77\n",
    "n = 2\n",
    "\n",
    "subject_name = \"cattalyya\"\n",
    "predicted_locations = CoreLocation.Locations(subject=subject_name)\n",
    "xs, ys = zip(*beacon_locations.values())\n",
    "margin = 50\n",
    "axis_limits = [min(xs) - margin, max(xs) + margin, min(ys) - margin, max(ys) + margin]\n",
    "for timestamp in data_by_timestamp.keys():\n",
    "    rssi_values = get_rssi_values(data_by_timestamp, timestamp)\n",
    "    beacon_distances = get_beacon_distances_from_rssi(rssi_values, A, n, conversion)\n",
    "    predicted_loc = trilateration.trilaterate(beacon_locations, beacon_distances, L2=True)\n",
    "    # TODO: check why None result from trilateration\n",
    "    if predicted_loc is not None:\n",
    "        predicted_locations.add_np_point(predicted_loc, timestamp)\n",
    "    \n",
    "subject_point = CoreLocation.Point2D.numpy_to_point(client_locations[subject_name], None)\n",
    "predicted_locations.visualize(subject_point, ax_limits=axis_limits)\n",
    "predicted_locations.plot(subject_point, ax_limits=axis_limits)"
   ]
  },
  {
   "cell_type": "markdown",
   "metadata": {},
   "source": [
    "Should we filter out data if rssi are too low? It's no longer reliable after it's below some threshold."
   ]
  },
  {
   "cell_type": "markdown",
   "metadata": {},
   "source": [
    "# Results"
   ]
  },
  {
   "cell_type": "code",
   "execution_count": null,
   "metadata": {
    "scrolled": true
   },
   "outputs": [],
   "source": [
    "def plot_prediction(beacon_locations, beacon_distances, predicted_location, client_names):\n",
    "    margin = 50\n",
    "    xs, ys = zip(*beacon_locations.values())\n",
    "    axis_limits = [min(xs) - margin, max(xs) + margin, min(ys) - margin, max(ys) + margin]\n",
    "    fig, ax = plt.subplots()\n",
    "    \n",
    "    # assume all beacons in beacon_distances are also in beacon_locations\n",
    "    for minor in beacon_distances:\n",
    "        x, y = beacon_locations[minor][:2]\n",
    "        distance = beacon_distances[minor]\n",
    "        circle = plt.Circle((x, y), distance, fill=False)\n",
    "        ax.add_artist(circle)\n",
    "        ax.plot(x, y, 'bo')\n",
    "        ax.annotate(minor, (x, y), xytext=(x + 5, y + 5))\n",
    "\n",
    "    for client_name in client_names:\n",
    "        x, y = client_locations[client_name]\n",
    "        ax.plot(x, y, 'go')\n",
    "        ax.annotate(client_name, (x, y), xytext=(x + 5, y + 5))\n",
    "\n",
    "    # prediction\n",
    "    predicted_x, predicted_y = predicted_location[:2]\n",
    "    ax.plot(predicted_x, predicted_y, 'ro')\n",
    "    ax.annotate(\"prediction\", (predicted_x, predicted_y), xytext=(predicted_x + 5, predicted_y + 5))\n",
    "    plt.axis(axis_limits)\n",
    "    ax.axis('equal')\n",
    "    plt.title(\"A: %.2f, n: %.2f\" % (A, n))\n",
    "    plt.show()"
   ]
  },
  {
   "cell_type": "code",
   "execution_count": null,
   "metadata": {},
   "outputs": [],
   "source": [
    "plot_prediction(beacon_locations, beacon_distances, predicted_locations.points[10].coord, [\"ray\"])"
   ]
  },
  {
   "cell_type": "code",
   "execution_count": null,
   "metadata": {},
   "outputs": [],
   "source": [
    "print rssi_values"
   ]
  },
  {
   "cell_type": "code",
   "execution_count": null,
   "metadata": {},
   "outputs": [],
   "source": []
  }
 ],
 "metadata": {
  "kernelspec": {
   "display_name": "Python 2",
   "language": "python",
   "name": "python2"
  },
  "language_info": {
   "codemirror_mode": {
    "name": "ipython",
    "version": 2
   },
   "file_extension": ".py",
   "mimetype": "text/x-python",
   "name": "python",
   "nbconvert_exporter": "python",
   "pygments_lexer": "ipython2",
   "version": "2.7.12"
  }
 },
 "nbformat": 4,
 "nbformat_minor": 2
}
